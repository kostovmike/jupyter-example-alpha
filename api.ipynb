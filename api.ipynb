{
 "cells": [
  {
   "cell_type": "code",
   "execution_count": 1,
   "id": "169abcc0-e145-48f7-afd0-ed4f88651605",
   "metadata": {},
   "outputs": [],
   "source": [
    "from usonia import idfapi"
   ]
  },
  {
   "cell_type": "code",
   "execution_count": 2,
   "id": "fa899c45-34ff-46e8-9859-1c37f27e4549",
   "metadata": {},
   "outputs": [
    {
     "name": "stdout",
     "output_type": "stream",
     "text": [
      "Projects [{'id': 133, 'project_name': '5Zone_IdealLoadsAirSystems_ReturnPlenum', 'version_id': 2, 'public_project_id': None, 'description': '', 'copyright': '', 'forked': 0, 'public': 0, 'created_at': '2023-01-19 16:13:29', 'updated_at': '2023-01-20 20:13:17', 'remote': 0, 'version': '9.5', 'idf_documents': 1, 'simulations': 0}, {'id': 132, 'project_name': 'tony_win1', 'version_id': 2, 'public_project_id': None, 'description': '', 'copyright': '', 'forked': 0, 'public': 0, 'created_at': '2023-01-13 14:46:05', 'updated_at': '2023-01-13 16:44:08', 'remote': 0, 'version': '9.5', 'idf_documents': 1, 'simulations': 1}, {'id': 131, 'project_name': 'tony p', 'version_id': 2, 'public_project_id': None, 'description': '', 'copyright': '', 'forked': 0, 'public': 0, 'created_at': '2023-01-13 14:21:09', 'updated_at': '2023-01-18 15:42:32', 'remote': 0, 'version': '9.5', 'idf_documents': 1, 'simulations': 2}, {'id': 130, 'project_name': 'tony project', 'version_id': 2, 'public_project_id': None, 'description': '', 'copyright': '', 'forked': 0, 'public': 0, 'created_at': '2023-01-13 14:17:33', 'updated_at': '2023-01-13 14:20:02', 'remote': 0, 'version': '9.5', 'idf_documents': 1, 'simulations': 1}, {'id': 126, 'project_name': '5ZoneNightVent3', 'version_id': 2, 'public_project_id': None, 'description': '', 'copyright': '', 'forked': 0, 'public': 0, 'created_at': '2022-12-16 07:31:04', 'updated_at': '2023-01-11 16:50:32', 'remote': 0, 'version': '9.5', 'idf_documents': 1, 'simulations': 1}, {'id': 125, 'project_name': '5ZoneElectricBaseboard', 'version_id': 2, 'public_project_id': None, 'description': '', 'copyright': '', 'forked': 0, 'public': 0, 'created_at': '2022-12-16 07:29:52', 'updated_at': '2023-01-04 11:08:52', 'remote': 0, 'version': '9.5', 'idf_documents': 1, 'simulations': 0}, {'id': 124, 'project_name': '4ZoneWithShading_Simple_1', 'version_id': 2, 'public_project_id': None, 'description': '', 'copyright': '', 'forked': 0, 'public': 0, 'created_at': '2022-12-16 07:29:04', 'updated_at': '2022-12-16 07:29:25', 'remote': 0, 'version': '9.5', 'idf_documents': 1, 'simulations': 0}, {'id': 120, 'project_name': '1ZoneEvapCooler', 'version_id': 2, 'public_project_id': None, 'description': '', 'copyright': '', 'forked': 0, 'public': 0, 'created_at': '2022-12-15 16:27:50', 'updated_at': '2023-01-13 14:21:26', 'remote': 0, 'version': '9.5', 'idf_documents': 1, 'simulations': 6}, {'id': 119, 'project_name': 'Project_12152022_162232', 'version_id': 2, 'public_project_id': None, 'description': 'Project_Description_12152022_162232', 'copyright': '', 'forked': 0, 'public': 0, 'created_at': '2022-12-15 16:22:39', 'updated_at': '2023-01-24 11:54:18', 'remote': 0, 'version': '9.5', 'idf_documents': 1, 'simulations': 0}]\n"
     ]
    }
   ],
   "source": [
    "projects = idfapi.get(\"/projects\")[\"data\"]\n",
    "print(\"Projects\", projects)"
   ]
  },
  {
   "cell_type": "code",
   "execution_count": null,
   "id": "18c50dfc-f00f-471f-aa46-a80befa29f5b",
   "metadata": {},
   "outputs": [],
   "source": []
  }
 ],
 "metadata": {
  "kernelspec": {
   "display_name": "Python 3 (ipykernel)",
   "language": "python",
   "name": "python3"
  },
  "language_info": {
   "codemirror_mode": {
    "name": "ipython",
    "version": 3
   },
   "file_extension": ".py",
   "mimetype": "text/x-python",
   "name": "python",
   "nbconvert_exporter": "python",
   "pygments_lexer": "ipython3",
   "version": "3.10.8"
  }
 },
 "nbformat": 4,
 "nbformat_minor": 5
}
